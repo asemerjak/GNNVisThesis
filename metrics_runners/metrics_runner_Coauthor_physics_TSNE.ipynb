{
 "cells": [
  {
   "cell_type": "code",
   "execution_count": 1,
   "id": "3b776ca5-fd75-4737-8d15-a281a478c9fc",
   "metadata": {},
   "outputs": [
    {
     "name": "stdout",
     "output_type": "stream",
     "text": [
      "Cuda available? True\n"
     ]
    }
   ],
   "source": [
    "from metrics import *\n",
    "import torch\n",
    "from torch_geometric.datasets import Coauthor\n",
    "from sklearn.decomposition import PCA\n",
    "from sklearn.preprocessing import StandardScaler\n",
    "import torch.nn.functional as F\n",
    "import random\n",
    "import matplotlib.pyplot as plt\n",
    "import numpy as np\n",
    "from time import time\n",
    "from tqdm import tqdm\n",
    "from utils import *\n",
    "import pandas as pd\n",
    "import numpy as np\n",
    "from sklearn.manifold import TSNE\n",
    "import umap\n",
    "import trimap\n",
    "\n",
    "random_state = 0\n",
    "random.seed(0)\n",
    "torch.manual_seed(0)\n",
    "\n",
    "print(\"Cuda available?\", torch.cuda.is_available())\n",
    "device = torch.device('cuda' if torch.cuda.is_available() else 'cpu')"
   ]
  },
  {
   "cell_type": "code",
   "execution_count": 2,
   "id": "2392480d-a3c0-4810-b21d-426f2ddf63b5",
   "metadata": {},
   "outputs": [],
   "source": [
    "dataset_name = \"Coauthor\"\n",
    "original_gnn = \"original\"\n",
    "algorithm_name = \"TSNE\"\n",
    "\n",
    "dataset = Coauthor(root='.', name=\"Physics\")\n",
    "data = dataset[0]\n",
    "\n",
    "X = data.x.numpy()\n",
    "y = dataset[0].y.cpu().numpy()\n"
   ]
  },
  {
   "cell_type": "code",
   "execution_count": null,
   "id": "13eea40c-a2af-4899-a0b0-9d79422900a4",
   "metadata": {},
   "outputs": [
    {
     "name": "stdout",
     "output_type": "stream",
     "text": [
      "Calculating d_hd\n",
      "Coauthor TSNE-euclidean\n",
      "Calculating d_hd\n",
      "Coauthor TSNE-l1\n",
      "Calculating d_hd\n",
      "Coauthor TSNE-l2\n",
      "Calculating d_hd\n",
      "Coauthor TSNE-manhattan\n"
     ]
    }
   ],
   "source": [
    "local_metrics = LocalMetric()\n",
    "\n",
    "for dist in ['euclidean', 'l1', 'l2', 'manhattan', 'cosine']:\n",
    "    tsne = TSNE(n_components=2, random_state=random_state, metric=dist)\n",
    "    tsne_results = tsne.fit_transform(X)\n",
    "\n",
    "    local_metrics.calculate_knn_gain_and_dr_quality(\n",
    "        X_lds=tsne_results,\n",
    "        X_hds=X,\n",
    "        labels=y,\n",
    "        method_name=\"{} {}\".format(dataset_name, f\"{algorithm_name}-{dist}\"),\n",
    "    )\n",
    "\n",
    "local_metrics.visualize(f\"{dataset_name}-{original_gnn} TSNE metric\")"
   ]
  },
  {
   "cell_type": "code",
   "execution_count": null,
   "id": "f771b83e-1d7e-4a12-90c8-b8912c158070",
   "metadata": {},
   "outputs": [],
   "source": [
    "local_metrics = LocalMetric()\n",
    "\n",
    "for n_iter in [300, 500, 1000, 2000, 5000]:\n",
    "    tsne = TSNE(n_components=2, random_state=random_state, n_iter=n_iter)\n",
    "    tsne_results = tsne.fit_transform(X)\n",
    "\n",
    "    local_metrics.calculate_knn_gain_and_dr_quality(\n",
    "        X_lds=tsne_results,\n",
    "        X_hds=X,\n",
    "        labels=y,\n",
    "        method_name=\"{} {}\".format(dataset_name, f\"{algorithm_name}-{n_iter}\"),\n",
    "    )\n",
    "\n",
    "local_metrics.visualize(f\"{dataset_name}-{original_gnn} TSNE n_iter\")"
   ]
  },
  {
   "cell_type": "code",
   "execution_count": null,
   "id": "a6fe207b-61c5-46bd-9381-507a85c45adb",
   "metadata": {},
   "outputs": [],
   "source": [
    "local_metrics = LocalMetric()\n",
    "\n",
    "for learning_rate in [10, 100, 500, 1000]:\n",
    "    tsne = TSNE(n_components=2, random_state=random_state, learning_rate=learning_rate)\n",
    "    tsne_results = tsne.fit_transform(X)\n",
    "\n",
    "    local_metrics.calculate_knn_gain_and_dr_quality(\n",
    "        X_lds=tsne_results,\n",
    "        X_hds=X,\n",
    "        labels=y,\n",
    "        method_name=\"{} {}\".format(dataset_name, f\"{algorithm_name}-{learning_rate}\"),\n",
    "    )\n",
    "\n",
    "local_metrics.visualize(f\"{dataset_name}-{original_gnn} TSNE learning_rate\")"
   ]
  },
  {
   "cell_type": "code",
   "execution_count": null,
   "id": "62e9dd68-764e-4c7e-be04-5fd06468e831",
   "metadata": {},
   "outputs": [],
   "source": [
    "local_metrics = LocalMetric()\n",
    "\n",
    "for perplexity in [5, 30, 50, 100]:\n",
    "    tsne = TSNE(n_components=2, random_state=random_state, perplexity=perplexity)\n",
    "    tsne_results = tsne.fit_transform(X)\n",
    "\n",
    "    local_metrics.calculate_knn_gain_and_dr_quality(\n",
    "        X_lds=tsne_results,\n",
    "        X_hds=X,\n",
    "        labels=y,\n",
    "        method_name=\"{} {}\".format(dataset_name, f\"{algorithm_name}-{perplexity}\"),\n",
    "    )\n",
    "\n",
    "local_metrics.visualize(f\"{dataset_name}-{original_gnn} TSNE perplexity\")"
   ]
  },
  {
   "cell_type": "code",
   "execution_count": null,
   "id": "34568c81-f0f0-45a3-9e92-4570e51fd3d5",
   "metadata": {},
   "outputs": [],
   "source": []
  }
 ],
 "metadata": {
  "kernelspec": {
   "display_name": "Python 3 (ipykernel)",
   "language": "python",
   "name": "python3"
  },
  "language_info": {
   "codemirror_mode": {
    "name": "ipython",
    "version": 3
   },
   "file_extension": ".py",
   "mimetype": "text/x-python",
   "name": "python",
   "nbconvert_exporter": "python",
   "pygments_lexer": "ipython3",
   "version": "3.10.12"
  }
 },
 "nbformat": 4,
 "nbformat_minor": 5
}
